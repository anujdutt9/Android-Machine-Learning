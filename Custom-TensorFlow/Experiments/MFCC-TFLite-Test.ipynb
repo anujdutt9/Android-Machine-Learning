{
 "cells": [
  {
   "cell_type": "code",
   "execution_count": 1,
   "metadata": {},
   "outputs": [],
   "source": [
    "# Import Dependencies\n",
    "import numpy as np\n",
    "import tensorflow as tf\n",
    "import sys\n",
    "import tempfile\n",
    "from tensorflow.contrib.framework.python.ops import audio_ops as contrib_audio"
   ]
  },
  {
   "cell_type": "code",
   "execution_count": 2,
   "metadata": {},
   "outputs": [
    {
     "name": "stdout",
     "output_type": "stream",
     "text": [
      "session run works\n"
     ]
    }
   ],
   "source": [
    "# TF Ops to Generate MFCC from Audio\n",
    "with tf.Session() as sess:\n",
    "    input_ph = tf.placeholder(tf.float32, [512])\n",
    "    samples = tf.reshape(input_ph, [512, 1])\n",
    "    spectrogram = contrib_audio.audio_spectrogram(samples, window_size=512, stride=320, magnitude_squared=True)\n",
    "    mfccs = contrib_audio.mfcc(spectrogram, 16000, dct_coefficient_count=13)\n",
    "\n",
    "    sess.run([mfccs], feed_dict={input_ph: np.random.random([512])})\n",
    "    print('session run works')\n",
    "    \n",
    "    # Save Audio to MFCC model graph as TFLite Model\n",
    "    converter = tf.lite.TFLiteConverter(sess.graph_def, input_tensors=[input_ph], output_tensors=[mfccs])\n",
    "    converter.allow_custom_ops = True\n",
    "    tflite_model = converter.convert()"
   ]
  },
  {
   "cell_type": "code",
   "execution_count": 3,
   "metadata": {},
   "outputs": [],
   "source": [
    "with tempfile.NamedTemporaryFile(delete=False) as fout:\n",
    "    temp_name = fout.name\n",
    "    fout.write(tflite_model)\n",
    "    fout.flush()"
   ]
  },
  {
   "cell_type": "code",
   "execution_count": 4,
   "metadata": {},
   "outputs": [
    {
     "name": "stdout",
     "output_type": "stream",
     "text": [
      "tflite model prepare works\n",
      "Model Input:  [{'name': 'Placeholder', 'index': 3, 'shape': array([512], dtype=int32), 'dtype': <class 'numpy.float32'>, 'quantization': (0.0, 0)}]\n",
      "Model Output:  [{'name': 'Mfcc', 'index': 1, 'shape': array([ 1,  1, 13], dtype=int32), 'dtype': <class 'numpy.float32'>, 'quantization': (0.0, 0)}]\n",
      "Inference Output:  [[[20.008898   -4.563293   -1.1163088  -1.0641364  -0.7265215\n",
      "   -0.61073065 -1.1987216  -0.454337   -0.10931532 -0.08606966\n",
      "   -0.27914992  0.07555699  0.20666339]]]\n"
     ]
    }
   ],
   "source": [
    "# Test Newly created TFLite Model\n",
    "try:\n",
    "    # Load TFLite model and allocate tensors.\n",
    "    interpreter = tf.lite.Interpreter(model_path=temp_name)\n",
    "    interpreter.allocate_tensors()\n",
    "    print('tflite model prepare works')\n",
    "\n",
    "    # Get input and output tensors.\n",
    "    input_details = interpreter.get_input_details()\n",
    "    output_details = interpreter.get_output_details()\n",
    "    \n",
    "    print(\"Model Input: \", input_details)\n",
    "    print(\"Model Output: \", output_details)\n",
    "\n",
    "    # Test model on random input data.\n",
    "    for inp in input_details:\n",
    "        input_data = np.array(np.random.random_sample(inp['shape']), dtype=np.float32)\n",
    "        interpreter.set_tensor(inp['index'], input_data)\n",
    "\n",
    "    interpreter.invoke()\n",
    "    output_data = interpreter.get_tensor(output_details[0]['index'])\n",
    "    print(\"Inference Output: \", output_data)\n",
    "finally:\n",
    "    try:\n",
    "        os.remove(temp_name)\n",
    "    except:\n",
    "        pass"
   ]
  },
  {
   "cell_type": "code",
   "execution_count": null,
   "metadata": {},
   "outputs": [],
   "source": []
  }
 ],
 "metadata": {
  "kernelspec": {
   "display_name": "Python 3",
   "language": "python",
   "name": "python3"
  },
  "language_info": {
   "codemirror_mode": {
    "name": "ipython",
    "version": 3
   },
   "file_extension": ".py",
   "mimetype": "text/x-python",
   "name": "python",
   "nbconvert_exporter": "python",
   "pygments_lexer": "ipython3",
   "version": "3.7.3"
  }
 },
 "nbformat": 4,
 "nbformat_minor": 2
}
